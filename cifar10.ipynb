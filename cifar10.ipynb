{
 "cells": [
  {
   "cell_type": "markdown",
   "metadata": {},
   "source": [
    "## Imports"
   ]
  },
  {
   "cell_type": "code",
   "execution_count": null,
   "metadata": {},
   "outputs": [],
   "source": [
    "import sys \n",
    "import numpy as np \n",
    "import matplotlib.pyplot as plt\n",
    "\n",
    "\n",
    "import torch\n",
    "import torchvision \n",
    "import torch.optim as optim\n",
    "import torch.nn as nn\n",
    "\n",
    "\n",
    "print(\"Python: %s\" % sys.version)\n",
    "print(\"Pytorch: %s\" % torch.__version__)"
   ]
  },
  {
   "cell_type": "markdown",
   "metadata": {},
   "source": [
    "## Hyperparameters"
   ]
  },
  {
   "cell_type": "code",
   "execution_count": null,
   "metadata": {},
   "outputs": [],
   "source": [
    "n_epochs = 10\n",
    "batch_size = 4 \n",
    "lr = 0.001"
   ]
  },
  {
   "cell_type": "markdown",
   "metadata": {},
   "source": [
    "## Load CIFAR10"
   ]
  },
  {
   "cell_type": "code",
   "execution_count": null,
   "metadata": {},
   "outputs": [],
   "source": [
    "# define series of transforms to pre process images \n",
    "transform = torchvision.transforms.Compose([\n",
    "    torchvision.transforms.Pad(2),\n",
    "    torchvision.transforms.ToTensor(),\n",
    "    torchvision.transforms.Normalize((0.5, 0.5, 0.5), (0.5, 0.5, 0.5))])\n",
    "\n",
    "classes = [\"airplane\", \"automobile\", \"bird\", \"cat\", \"deer\", \"dog\", \"frog\", \"horse\", \"ship\", \"truck\"]\n",
    "\n",
    "\n",
    "# load training set \n",
    "cifar10_trainset = torchvision.datasets.CIFAR10('datasets/', train=True, transform=transform, download=True)\n",
    "cifar10_trainloader = torch.utils.data.DataLoader(cifar10_trainset, batch_size=batch_size, shuffle=True, num_workers=2)\n",
    "\n",
    "# load test set \n",
    "cifar10_testset = torchvision.datasets.CIFAR10('datasets/', train=False, transform=transform, download=True)\n",
    "cifar10_testloader = torch.utils.data.DataLoader(cifar10_testset, batch_size=1, shuffle=False, num_workers=2)\n",
    "\n",
    "# helper function to unnormalize and plot image \n",
    "def imshow(img):\n",
    "    img = np.array(img)\n",
    "    img = img / 2 + 0.5\n",
    "    img = np.moveaxis(img, 0, -1)\n",
    "    plt.imshow(img)\n",
    "    \n",
    "# display sample from dataset \n",
    "imgs,labels = iter(cifar10_trainloader).next()\n",
    "imshow(torchvision.utils.make_grid(imgs))  "
   ]
  },
  {
   "cell_type": "markdown",
   "metadata": {},
   "source": [
    "## Model Architecture"
   ]
  },
  {
   "cell_type": "code",
   "execution_count": null,
   "metadata": {},
   "outputs": [],
   "source": [
    "# determine device to run network on (runs on gpu if available)\n",
    "device = torch.device(\"cuda:0\" if torch.cuda.is_available() else \"cpu\")\n",
    "\n",
    "# load the torchvision resnet18 implementation \n",
    "resnet18 = torchvision.models.resnet18(num_classes=10)\n",
    "# resnet fix for cifar10 image size \n",
    "resnet18.avgpool = nn.AvgPool2d(2, stride=1)\n",
    "\n",
    "#alexnet = torchvision.models.alexnet()\n",
    "#vgg16 = torchvision.models.vgg16()\n",
    "#squeezenet = torchvision.models.squeezenet1_0()\n",
    "#densenet = torchvision.models.densenet161()\n",
    "#inception = torchvision.models.inception_v3()\n",
    "\n",
    "net = resnet18.to(device)\n",
    "\n",
    "criterion = nn.CrossEntropyLoss()\n",
    "optimizer = optim.SGD(net.parameters(), lr=lr, momentum=0.9)"
   ]
  },
  {
   "cell_type": "markdown",
   "metadata": {},
   "source": [
    "## Training "
   ]
  },
  {
   "cell_type": "code",
   "execution_count": null,
   "metadata": {},
   "outputs": [],
   "source": [
    "def eval_net(): \n",
    "    class_correct = np.zeros(10)\n",
    "    class_total = np.zeros(10)\n",
    "    \n",
    "    with torch.no_grad():\n",
    "        for data in cifar10_testloader:\n",
    "            img, lbl = data\n",
    "            img, lbl = img.to(device), lbl.to(device)\n",
    "            \n",
    "            output = net(img)\n",
    "            predicted = torch.argmax(output)\n",
    "            correct = predicted == lbl\n",
    "\n",
    "            \n",
    "            class_correct[lbl] += correct\n",
    "            class_total[lbl] += 1 \n",
    "            \n",
    "    for i in range(10):\n",
    "        print('Accuracy of %s : %f %%' % (classes[i], 100 * class_correct[i] / class_total[i]))\n",
    "\n",
    "\n",
    "for epoch in range(n_epochs): \n",
    "    \n",
    "    for i, batch in enumerate(cifar10_trainloader): \n",
    "        \n",
    "        imgs, labels = batch\n",
    "        imgs, labels = imgs.to(device), labels.to(device)\n",
    "\n",
    "        \n",
    "        optimizer.zero_grad()\n",
    "        \n",
    "        outputs = net(imgs)\n",
    "        \n",
    "        \n",
    "        loss = criterion(outputs, labels)\n",
    "        loss.backward()\n",
    "        \n",
    "        optimizer.step()\n",
    "        \n",
    "        print(\"[%d/%d][%d/%d] loss = %f\" % (epoch, n_epochs, i, len(cifar10_trainloader), loss.item()))\n",
    "\n",
    "    # evaluate performance on testset at the end of each epoch \n",
    "    eval_net()\n",
    "        \n"
   ]
  }
 ],
 "metadata": {
  "kernelspec": {
   "display_name": "Python 3",
   "language": "python",
   "name": "python3"
  },
  "language_info": {
   "codemirror_mode": {
    "name": "ipython",
    "version": 3
   },
   "file_extension": ".py",
   "mimetype": "text/x-python",
   "name": "python",
   "nbconvert_exporter": "python",
   "pygments_lexer": "ipython3",
   "version": "3.6.5"
  }
 },
 "nbformat": 4,
 "nbformat_minor": 2
}
