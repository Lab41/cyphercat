{
 "cells": [
  {
   "cell_type": "markdown",
   "metadata": {},
   "source": [
    "# Imports"
   ]
  },
  {
   "cell_type": "code",
   "execution_count": 7,
   "metadata": {},
   "outputs": [],
   "source": [
    "import sys \n",
    "\n",
    "import numpy as np \n",
    "import matplotlib.pyplot as plt\n",
    "\n",
    "from sklearn import svm\n",
    "from sklearn.decomposition import PCA\n",
    "from sklearn.pipeline import make_pipeline\n",
    "from sklearn.preprocessing import MinMaxScaler\n",
    "from sklearn.externals import joblib\n",
    "\n",
    "import torch\n",
    "import torchvision \n",
    "import torchvision.transforms as transforms\n",
    "\n",
    "import pickle\n",
    "import pandas as pd\n",
    "import os\n",
    "\n",
    "sys.path.append('../../Utils')\n",
    "\n",
    "from SVC_Utils import *"
   ]
  },
  {
   "cell_type": "markdown",
   "metadata": {},
   "source": [
    "# Load CIFAR100"
   ]
  },
  {
   "cell_type": "code",
   "execution_count": 13,
   "metadata": {},
   "outputs": [
    {
     "name": "stdout",
     "output_type": "stream",
     "text": [
      "Files already downloaded and verified\n",
      "Files already downloaded and verified\n"
     ]
    }
   ],
   "source": [
    "def unpickle(file):\n",
    "    with open(file, 'rb') as fo:\n",
    "        res = pickle.load(fo, encoding='bytes')\n",
    "    return res\n",
    "\n",
    "transform = transforms.Compose(\n",
    "    [transforms.ToTensor()])\n",
    "\n",
    "#training data; \n",
    "trainset = torchvision.datasets.CIFAR100(root='./data', train=True, download=True, transform=transforms.ToTensor())\n",
    "trainloader = torch.utils.data.DataLoader(trainset, batch_size=int((trainset.__len__())/2), shuffle=True, num_workers=2)\n",
    "trainloader_final=torch.utils.data.DataLoader(trainset, batch_size=trainset.__len__(), shuffle=True, num_workers=2)\n",
    "#test data\n",
    "testset = torchvision.datasets.CIFAR100(root='./data', train=False, download=True, transform=transforms.ToTensor())\n",
    "testloader = torch.utils.data.DataLoader(testset, batch_size=testset.__len__(),shuffle=False, num_workers=2)\n",
    "\n",
    "classes=None"
   ]
  },
  {
   "cell_type": "code",
   "execution_count": 14,
   "metadata": {},
   "outputs": [],
   "source": [
    "traininputs, traintargets=load(trainloader)\n",
    "testinputs, testtargets=load(testloader)\n",
    "ftraininputs, ftraintargets=load(trainloader_final)"
   ]
  },
  {
   "cell_type": "markdown",
   "metadata": {},
   "source": [
    "# Model Training"
   ]
  },
  {
   "cell_type": "code",
   "execution_count": 8,
   "metadata": {},
   "outputs": [],
   "source": [
    "n_components=180\n",
    "C_range=np.logspace(0,1,2)\n",
    "gamma_range=np.logspace(-2,-1,2)"
   ]
  },
  {
   "cell_type": "code",
   "execution_count": 9,
   "metadata": {},
   "outputs": [],
   "source": [
    "clfs=hp_grid(n_components=n_components, C_range=C_range, gamma_range=gamma_range)"
   ]
  },
  {
   "cell_type": "code",
   "execution_count": 6,
   "metadata": {},
   "outputs": [],
   "source": [
    "#fitted_clfs=train_grid(clfs, traininputs, traintargets)"
   ]
  },
  {
   "cell_type": "code",
   "execution_count": 7,
   "metadata": {},
   "outputs": [],
   "source": [
    "fitted_clfs=joblib.load('fclfs')"
   ]
  },
  {
   "cell_type": "markdown",
   "metadata": {},
   "source": [
    "# Model Testing/Evaluation"
   ]
  },
  {
   "cell_type": "code",
   "execution_count": 8,
   "metadata": {},
   "outputs": [
    {
     "name": "stdout",
     "output_type": "stream",
     "text": [
      "C:  1.0 gamma:  0.01\n",
      "Training Accuracy:  12.703999999999999\n",
      "Testing Accuracy:  11.85\n",
      "C:  1.0 gamma:  0.1\n",
      "Training Accuracy:  29.415999999999997\n",
      "Testing Accuracy:  19.09\n",
      "C:  10.0 gamma:  0.01\n",
      "Training Accuracy:  24.584\n",
      "Testing Accuracy:  17.22\n",
      "C:  10.0 gamma:  0.1\n",
      "Training Accuracy:  58.252\n",
      "Testing Accuracy:  20.14\n"
     ]
    }
   ],
   "source": [
    "#Stores training and testing accuracies in matrices (Rows: C_range, Cols: gamma_range)\n",
    "\n",
    "train_accs=np.random.randn(len(C_range),len(gamma_range))\n",
    "test_accs=np.random.randn(len(C_range),len(gamma_range))\n",
    "test_preds=[]\n",
    "k=0;\n",
    "\n",
    "for i in range(len(C_range)):\n",
    "    for j in range(len(gamma_range)):\n",
    "        train_accs[i,j]=predict_eval(fitted_clfs[k], traininputs, traintargets, training=True)[1]\n",
    "        preds, test_accs[i,j]=predict_eval(fitted_clfs[k], testinputs, testtargets)\n",
    "        test_preds.append(preds)\n",
    "        k+=1"
   ]
  },
  {
   "cell_type": "code",
   "execution_count": 12,
   "metadata": {},
   "outputs": [],
   "source": [
    "idx=['C = 1','C = 10']\n",
    "cols=['gamma = .01','gamma = .1']\n",
    "\n",
    "trainacc_df=pd.DataFrame(data=train_accs, index=idx, columns=cols)\n",
    "testacc_df=pd.DataFrame(data=test_accs, index=idx, columns=cols)"
   ]
  },
  {
   "cell_type": "code",
   "execution_count": 13,
   "metadata": {},
   "outputs": [
    {
     "data": {
      "text/html": [
       "<style  type=\"text/css\" >\n",
       "    #T_c4311e34_aa19_11e8_89b3_086d41ddef56row0_col0 {\n",
       "            background-color:  #f7fcf0;\n",
       "        }    #T_c4311e34_aa19_11e8_89b3_086d41ddef56row0_col1 {\n",
       "            background-color:  #f7fcf0;\n",
       "        }    #T_c4311e34_aa19_11e8_89b3_086d41ddef56row1_col0 {\n",
       "            background-color:  #084081;\n",
       "        }    #T_c4311e34_aa19_11e8_89b3_086d41ddef56row1_col1 {\n",
       "            background-color:  #084081;\n",
       "        }</style>  \n",
       "<table id=\"T_c4311e34_aa19_11e8_89b3_086d41ddef56\" > \n",
       "<thead>    <tr> \n",
       "        <th class=\"blank level0\" ></th> \n",
       "        <th class=\"col_heading level0 col0\" >gamma = .01</th> \n",
       "        <th class=\"col_heading level0 col1\" >gamma = .1</th> \n",
       "    </tr></thead> \n",
       "<tbody>    <tr> \n",
       "        <th id=\"T_c4311e34_aa19_11e8_89b3_086d41ddef56level0_row0\" class=\"row_heading level0 row0\" >C = 1</th> \n",
       "        <td id=\"T_c4311e34_aa19_11e8_89b3_086d41ddef56row0_col0\" class=\"data row0 col0\" >12.704</td> \n",
       "        <td id=\"T_c4311e34_aa19_11e8_89b3_086d41ddef56row0_col1\" class=\"data row0 col1\" >29.416</td> \n",
       "    </tr>    <tr> \n",
       "        <th id=\"T_c4311e34_aa19_11e8_89b3_086d41ddef56level0_row1\" class=\"row_heading level0 row1\" >C = 10</th> \n",
       "        <td id=\"T_c4311e34_aa19_11e8_89b3_086d41ddef56row1_col0\" class=\"data row1 col0\" >24.584</td> \n",
       "        <td id=\"T_c4311e34_aa19_11e8_89b3_086d41ddef56row1_col1\" class=\"data row1 col1\" >58.252</td> \n",
       "    </tr></tbody> \n",
       "</table> "
      ],
      "text/plain": [
       "<pandas.io.formats.style.Styler at 0x115879fd0>"
      ]
     },
     "execution_count": 13,
     "metadata": {},
     "output_type": "execute_result"
    }
   ],
   "source": [
    "#training accuracy for C/gamma grid\n",
    "trainacc_df.style.background_gradient(cmap='GnBu')"
   ]
  },
  {
   "cell_type": "code",
   "execution_count": 14,
   "metadata": {},
   "outputs": [
    {
     "data": {
      "text/html": [
       "<style  type=\"text/css\" >\n",
       "    #T_c9be7798_aa19_11e8_89b3_086d41ddef56row0_col0 {\n",
       "            background-color:  #f7fcf0;\n",
       "        }    #T_c9be7798_aa19_11e8_89b3_086d41ddef56row0_col1 {\n",
       "            background-color:  #f7fcf0;\n",
       "        }    #T_c9be7798_aa19_11e8_89b3_086d41ddef56row1_col0 {\n",
       "            background-color:  #084081;\n",
       "        }    #T_c9be7798_aa19_11e8_89b3_086d41ddef56row1_col1 {\n",
       "            background-color:  #084081;\n",
       "        }</style>  \n",
       "<table id=\"T_c9be7798_aa19_11e8_89b3_086d41ddef56\" > \n",
       "<thead>    <tr> \n",
       "        <th class=\"blank level0\" ></th> \n",
       "        <th class=\"col_heading level0 col0\" >gamma = .01</th> \n",
       "        <th class=\"col_heading level0 col1\" >gamma = .1</th> \n",
       "    </tr></thead> \n",
       "<tbody>    <tr> \n",
       "        <th id=\"T_c9be7798_aa19_11e8_89b3_086d41ddef56level0_row0\" class=\"row_heading level0 row0\" >C = 1</th> \n",
       "        <td id=\"T_c9be7798_aa19_11e8_89b3_086d41ddef56row0_col0\" class=\"data row0 col0\" >11.85</td> \n",
       "        <td id=\"T_c9be7798_aa19_11e8_89b3_086d41ddef56row0_col1\" class=\"data row0 col1\" >19.09</td> \n",
       "    </tr>    <tr> \n",
       "        <th id=\"T_c9be7798_aa19_11e8_89b3_086d41ddef56level0_row1\" class=\"row_heading level0 row1\" >C = 10</th> \n",
       "        <td id=\"T_c9be7798_aa19_11e8_89b3_086d41ddef56row1_col0\" class=\"data row1 col0\" >17.22</td> \n",
       "        <td id=\"T_c9be7798_aa19_11e8_89b3_086d41ddef56row1_col1\" class=\"data row1 col1\" >20.14</td> \n",
       "    </tr></tbody> \n",
       "</table> "
      ],
      "text/plain": [
       "<pandas.io.formats.style.Styler at 0x116331f60>"
      ]
     },
     "execution_count": 14,
     "metadata": {},
     "output_type": "execute_result"
    }
   ],
   "source": [
    "#test accuracy for C/gamma grid\n",
    "testacc_df.style.background_gradient(cmap='GnBu')"
   ]
  },
  {
   "cell_type": "markdown",
   "metadata": {},
   "source": [
    "# Save Model"
   ]
  },
  {
   "cell_type": "code",
   "execution_count": null,
   "metadata": {},
   "outputs": [],
   "source": [
    "maxacc, gen=maxacc_gen(test_accs, train_accs, clfs)"
   ]
  },
  {
   "cell_type": "code",
   "execution_count": null,
   "metadata": {},
   "outputs": [],
   "source": [
    "fn_max_acc = 'SVMCIFAR100_maxacc_proba.pkl'\n",
    "fn_gen = 'SVMCIFAR100_gen_proba.pkl'"
   ]
  },
  {
   "cell_type": "code",
   "execution_count": 11,
   "metadata": {},
   "outputs": [
    {
     "name": "stdout",
     "output_type": "stream",
     "text": [
      "Pipeline(memory=None,\n",
      "     steps=[('pca', PCA(copy=True, iterated_power='auto', n_components=180, random_state=None,\n",
      "  svd_solver='auto', tol=0.0, whiten=False)), ('minmaxscaler', MinMaxScaler(copy=True, feature_range=(-1, 1))), ('svc', SVC(C=10.0, cache_size=200, class_weight=None, coef0=0.0,\n",
      "  decision_function_shape='ovr', degree=3, gamma=0.1, kernel='rbf',\n",
      "  max_iter=-1, probability=False, random_state=None, shrinking=True,\n",
      "  tol=0.001, verbose=False))])\n"
     ]
    }
   ],
   "source": [
    "print(maxacc)"
   ]
  },
  {
   "cell_type": "code",
   "execution_count": 15,
   "metadata": {},
   "outputs": [],
   "source": [
    "save_proba(fn_max_acc, maxacc, traininputs, traintargets)\n",
    "save_proba(fn_gen, gen, traininputs, traintargets)"
   ]
  }
 ],
 "metadata": {
  "kernelspec": {
   "display_name": "Python 3",
   "language": "python",
   "name": "python3"
  },
  "language_info": {
   "codemirror_mode": {
    "name": "ipython",
    "version": 3
   },
   "file_extension": ".py",
   "mimetype": "text/x-python",
   "name": "python",
   "nbconvert_exporter": "python",
   "pygments_lexer": "ipython3",
   "version": "3.7.0"
  }
 },
 "nbformat": 4,
 "nbformat_minor": 2
}
