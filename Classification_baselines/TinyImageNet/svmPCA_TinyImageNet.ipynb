{
 "cells": [
  {
   "cell_type": "markdown",
   "metadata": {},
   "source": [
    "# Imports"
   ]
  },
  {
   "cell_type": "code",
   "execution_count": 2,
   "metadata": {},
   "outputs": [],
   "source": [
    "import sys \n",
    "\n",
    "import numpy as np \n",
    "import matplotlib.pyplot as plt\n",
    "\n",
    "from sklearn import svm\n",
    "from sklearn.decomposition import PCA\n",
    "from sklearn.pipeline import make_pipeline\n",
    "from sklearn.preprocessing import MinMaxScaler\n",
    "from sklearn.externals import joblib\n",
    "\n",
    "import torch\n",
    "import torchvision \n",
    "import torchvision.transforms as transforms\n",
    "\n",
    "import pickle\n",
    "import pandas as pd\n",
    "import os\n",
    "\n",
    "sys.path.append('../../Utils')\n",
    "\n",
    "from SVC_Utils import *\n",
    "from data_downloaders import *"
   ]
  },
  {
   "cell_type": "markdown",
   "metadata": {},
   "source": [
    "# Load/Process TinyImageNet"
   ]
  },
  {
   "cell_type": "code",
   "execution_count": 8,
   "metadata": {},
   "outputs": [
    {
     "name": "stdout",
     "output_type": "stream",
     "text": [
      "Tiny ImageNet already downloaded.\n"
     ]
    }
   ],
   "source": [
    "get_tiny_imagenet('../../Datasets/')\n",
    "\n",
    "train_dir = \"../../Datasets/tiny-imagenet-200/train\"\n",
    "test_dir = \"../../Datasets/tiny-imagenet-200/val\"\n",
    "\n",
    "# load training set \n",
    "trainset = torchvision.datasets.ImageFolder(train_dir, transform=transforms.ToTensor())\n",
    "trainloader = torch.utils.data.DataLoader(trainset, batch_size=int(trainset.__len__()/2), shuffle=True, num_workers=2)\n",
    "ftrainloader = torch.utils.data.DataLoader(trainset, batch_size=trainset.__len__(), shuffle=True, num_workers=2)\n",
    "\n",
    "# load test set \n",
    "testset = torchvision.datasets.ImageFolder(test_dir, transform=transforms.ToTensor())\n",
    "testloader = torch.utils.data.DataLoader(testset, batch_size=32, shuffle=False, num_workers=2)"
   ]
  },
  {
   "cell_type": "code",
   "execution_count": null,
   "metadata": {},
   "outputs": [],
   "source": [
    "traininputs, traintargets=load(trainloader)\n",
    "testinputs, testtargets=load(testloader)\n",
    "ftraininputs, ftraintargets=load(ftrainloader)"
   ]
  },
  {
   "cell_type": "markdown",
   "metadata": {},
   "source": [
    "# Model Training"
   ]
  },
  {
   "cell_type": "code",
   "execution_count": 4,
   "metadata": {},
   "outputs": [],
   "source": [
    "n_components=180\n",
    "C_range=np.logspace(0,1,2)\n",
    "gamma_range=np.logspace(-2,-1,2)"
   ]
  },
  {
   "cell_type": "code",
   "execution_count": 5,
   "metadata": {},
   "outputs": [],
   "source": [
    "clfs=hp_grid(n_components=n_components, C_range=C_range, gamma_range=gamma_range)"
   ]
  },
  {
   "cell_type": "code",
   "execution_count": 6,
   "metadata": {},
   "outputs": [
    {
     "name": "stdout",
     "output_type": "stream",
     "text": [
      "Fitted:  1 / 4\n",
      "Fitted:  2 / 4\n",
      "Fitted:  3 / 4\n",
      "Fitted:  4 / 4\n"
     ]
    }
   ],
   "source": [
    "fitted_clfs=train_grid(clfs, traininputs, traintargets)"
   ]
  },
  {
   "cell_type": "markdown",
   "metadata": {},
   "source": [
    "# Model Testing/Evaluation"
   ]
  },
  {
   "cell_type": "code",
   "execution_count": 8,
   "metadata": {},
   "outputs": [
    {
     "name": "stdout",
     "output_type": "stream",
     "text": [
      "C:  1.0 gamma:  0.01\n",
      "Training Accuracy:  44.903999999999996\n",
      "C:  1.0 gamma:  0.01\n",
      "Testing Accuracy:  43.26\n",
      "C:  1.0 gamma:  0.1\n",
      "Training Accuracy:  67.53\n",
      "C:  1.0 gamma:  0.1\n",
      "Testing Accuracy:  52.49\n",
      "C:  10.0 gamma:  0.01\n",
      "Training Accuracy:  50.434\n",
      "C:  10.0 gamma:  0.01\n",
      "Testing Accuracy:  46.01\n",
      "C:  10.0 gamma:  0.1\n",
      "Training Accuracy:  96.2\n",
      "C:  10.0 gamma:  0.1\n",
      "Testing Accuracy:  56.779999999999994\n"
     ]
    }
   ],
   "source": [
    "#Stores training and testing accuracies in matrices (Rows: C_range, Cols: gamma_range)\n",
    "\n",
    "train_accs=np.random.randn(len(C_range),len(gamma_range))\n",
    "test_accs=np.random.randn(len(C_range),len(gamma_range))\n",
    "test_preds=[]\n",
    "k=0;\n",
    "\n",
    "for i in range(len(C_range)):\n",
    "    for j in range(len(gamma_range)):\n",
    "        train_accs[i,j]=predict_eval(fitted_clfs[k], traininputs, traintargets, training=True)[1]\n",
    "        preds, test_accs[i,j]=predict_eval(fitted_clfs[k], testinputs, testtargets)\n",
    "        test_preds.append(preds)\n",
    "        k+=1"
   ]
  },
  {
   "cell_type": "code",
   "execution_count": 9,
   "metadata": {},
   "outputs": [],
   "source": [
    "idx=['C = 1','C = 10']\n",
    "cols=['gamma = .01','gamma = .1']\n",
    "\n",
    "trainacc_df=pd.DataFrame(data=train_accs, index=idx, columns=cols)\n",
    "testacc_df=pd.DataFrame(data=test_accs, index=idx, columns=cols)"
   ]
  },
  {
   "cell_type": "code",
   "execution_count": 10,
   "metadata": {},
   "outputs": [
    {
     "data": {
      "text/html": [
       "<style  type=\"text/css\" >\n",
       "    #T_b91c0b44_a62c_11e8_9e05_086d41ddef56row0_col0 {\n",
       "            background-color:  #f7fcf0;\n",
       "        }    #T_b91c0b44_a62c_11e8_9e05_086d41ddef56row0_col1 {\n",
       "            background-color:  #f7fcf0;\n",
       "        }    #T_b91c0b44_a62c_11e8_9e05_086d41ddef56row1_col0 {\n",
       "            background-color:  #084081;\n",
       "        }    #T_b91c0b44_a62c_11e8_9e05_086d41ddef56row1_col1 {\n",
       "            background-color:  #084081;\n",
       "        }</style>  \n",
       "<table id=\"T_b91c0b44_a62c_11e8_9e05_086d41ddef56\" > \n",
       "<thead>    <tr> \n",
       "        <th class=\"blank level0\" ></th> \n",
       "        <th class=\"col_heading level0 col0\" >gamma = .01</th> \n",
       "        <th class=\"col_heading level0 col1\" >gamma = .1</th> \n",
       "    </tr></thead> \n",
       "<tbody>    <tr> \n",
       "        <th id=\"T_b91c0b44_a62c_11e8_9e05_086d41ddef56level0_row0\" class=\"row_heading level0 row0\" >C = 1</th> \n",
       "        <td id=\"T_b91c0b44_a62c_11e8_9e05_086d41ddef56row0_col0\" class=\"data row0 col0\" >44.904</td> \n",
       "        <td id=\"T_b91c0b44_a62c_11e8_9e05_086d41ddef56row0_col1\" class=\"data row0 col1\" >67.53</td> \n",
       "    </tr>    <tr> \n",
       "        <th id=\"T_b91c0b44_a62c_11e8_9e05_086d41ddef56level0_row1\" class=\"row_heading level0 row1\" >C = 10</th> \n",
       "        <td id=\"T_b91c0b44_a62c_11e8_9e05_086d41ddef56row1_col0\" class=\"data row1 col0\" >50.434</td> \n",
       "        <td id=\"T_b91c0b44_a62c_11e8_9e05_086d41ddef56row1_col1\" class=\"data row1 col1\" >96.2</td> \n",
       "    </tr></tbody> \n",
       "</table> "
      ],
      "text/plain": [
       "<pandas.io.formats.style.Styler at 0x11fdf0f60>"
      ]
     },
     "execution_count": 10,
     "metadata": {},
     "output_type": "execute_result"
    }
   ],
   "source": [
    "#training accuracy for C/gamma grid\n",
    "trainacc_df.style.background_gradient(cmap='GnBu')"
   ]
  },
  {
   "cell_type": "code",
   "execution_count": 11,
   "metadata": {},
   "outputs": [
    {
     "data": {
      "text/html": [
       "<style  type=\"text/css\" >\n",
       "    #T_b928ee5e_a62c_11e8_9e05_086d41ddef56row0_col0 {\n",
       "            background-color:  #f7fcf0;\n",
       "        }    #T_b928ee5e_a62c_11e8_9e05_086d41ddef56row0_col1 {\n",
       "            background-color:  #f7fcf0;\n",
       "        }    #T_b928ee5e_a62c_11e8_9e05_086d41ddef56row1_col0 {\n",
       "            background-color:  #084081;\n",
       "        }    #T_b928ee5e_a62c_11e8_9e05_086d41ddef56row1_col1 {\n",
       "            background-color:  #084081;\n",
       "        }</style>  \n",
       "<table id=\"T_b928ee5e_a62c_11e8_9e05_086d41ddef56\" > \n",
       "<thead>    <tr> \n",
       "        <th class=\"blank level0\" ></th> \n",
       "        <th class=\"col_heading level0 col0\" >gamma = .01</th> \n",
       "        <th class=\"col_heading level0 col1\" >gamma = .1</th> \n",
       "    </tr></thead> \n",
       "<tbody>    <tr> \n",
       "        <th id=\"T_b928ee5e_a62c_11e8_9e05_086d41ddef56level0_row0\" class=\"row_heading level0 row0\" >C = 1</th> \n",
       "        <td id=\"T_b928ee5e_a62c_11e8_9e05_086d41ddef56row0_col0\" class=\"data row0 col0\" >43.26</td> \n",
       "        <td id=\"T_b928ee5e_a62c_11e8_9e05_086d41ddef56row0_col1\" class=\"data row0 col1\" >52.49</td> \n",
       "    </tr>    <tr> \n",
       "        <th id=\"T_b928ee5e_a62c_11e8_9e05_086d41ddef56level0_row1\" class=\"row_heading level0 row1\" >C = 10</th> \n",
       "        <td id=\"T_b928ee5e_a62c_11e8_9e05_086d41ddef56row1_col0\" class=\"data row1 col0\" >46.01</td> \n",
       "        <td id=\"T_b928ee5e_a62c_11e8_9e05_086d41ddef56row1_col1\" class=\"data row1 col1\" >56.78</td> \n",
       "    </tr></tbody> \n",
       "</table> "
      ],
      "text/plain": [
       "<pandas.io.formats.style.Styler at 0x10fe5a358>"
      ]
     },
     "execution_count": 11,
     "metadata": {},
     "output_type": "execute_result"
    }
   ],
   "source": [
    "#test accuracy for C/gamma grid\n",
    "testacc_df.style.background_gradient(cmap='GnBu')"
   ]
  },
  {
   "cell_type": "markdown",
   "metadata": {},
   "source": [
    "# Save Models"
   ]
  },
  {
   "cell_type": "code",
   "execution_count": null,
   "metadata": {},
   "outputs": [],
   "source": [
    "maxacc, gen=maxacc_gen(test_accs, train_accs, clfs)"
   ]
  },
  {
   "cell_type": "code",
   "execution_count": 1,
   "metadata": {},
   "outputs": [
    {
     "ename": "NameError",
     "evalue": "name 'save' is not defined",
     "output_type": "error",
     "traceback": [
      "\u001b[0;31m---------------------------------------------------------------------------\u001b[0m",
      "\u001b[0;31mNameError\u001b[0m                                 Traceback (most recent call last)",
      "\u001b[0;32m<ipython-input-1-94fc5bf3fb1f>\u001b[0m in \u001b[0;36m<module>\u001b[0;34m()\u001b[0m\n\u001b[1;32m      1\u001b[0m \u001b[0mfn_max_acc\u001b[0m \u001b[0;34m=\u001b[0m \u001b[0;34m'SVM_maxacc_CIFAR10.pkl'\u001b[0m\u001b[0;34m\u001b[0m\u001b[0m\n\u001b[1;32m      2\u001b[0m \u001b[0mfn_gen\u001b[0m \u001b[0;34m=\u001b[0m \u001b[0;34m'SVM_gen_CIFAR10.pkl'\u001b[0m\u001b[0;34m\u001b[0m\u001b[0m\n\u001b[0;32m----> 3\u001b[0;31m \u001b[0msave\u001b[0m\u001b[0;34m(\u001b[0m\u001b[0mfn_max_acc\u001b[0m\u001b[0;34m,\u001b[0m \u001b[0mfn_gen\u001b[0m\u001b[0;34m,\u001b[0m \u001b[0mtest_accs\u001b[0m\u001b[0;34m,\u001b[0m \u001b[0mtrain_accs\u001b[0m\u001b[0;34m,\u001b[0m \u001b[0mfitted_clfs\u001b[0m\u001b[0;34m)\u001b[0m\u001b[0;34m\u001b[0m\u001b[0m\n\u001b[0m",
      "\u001b[0;31mNameError\u001b[0m: name 'save' is not defined"
     ]
    }
   ],
   "source": [
    "fn_max_acc = 'SVMTinyImageNet_maxacc_proba.pkl'\n",
    "fn_gen = 'SVMTinyImageNet_gen_proba.pkl'"
   ]
  },
  {
   "cell_type": "code",
   "execution_count": 1,
   "metadata": {},
   "outputs": [
    {
     "ename": "NameError",
     "evalue": "name 'test_accs' is not defined",
     "output_type": "error",
     "traceback": [
      "\u001b[0;31m---------------------------------------------------------------------------\u001b[0m",
      "\u001b[0;31mNameError\u001b[0m                                 Traceback (most recent call last)",
      "\u001b[0;32m<ipython-input-1-1a34611b70c9>\u001b[0m in \u001b[0;36m<module>\u001b[0;34m()\u001b[0m\n\u001b[1;32m      1\u001b[0m \u001b[0maccs\u001b[0m\u001b[0;34m=\u001b[0m\u001b[0;34m[\u001b[0m\u001b[0;34m]\u001b[0m\u001b[0;34m\u001b[0m\u001b[0m\n\u001b[0;32m----> 2\u001b[0;31m \u001b[0maccs\u001b[0m\u001b[0;34m.\u001b[0m\u001b[0mappend\u001b[0m\u001b[0;34m(\u001b[0m\u001b[0mtest_accs\u001b[0m\u001b[0;34m)\u001b[0m\u001b[0;34m;\u001b[0m \u001b[0maccs\u001b[0m\u001b[0;34m.\u001b[0m\u001b[0mappend\u001b[0m\u001b[0;34m(\u001b[0m\u001b[0mtrain_accs\u001b[0m\u001b[0;34m)\u001b[0m\u001b[0;34m\u001b[0m\u001b[0m\n\u001b[0m",
      "\u001b[0;31mNameError\u001b[0m: name 'test_accs' is not defined"
     ]
    }
   ],
   "source": [
    "save_proba(fn_max_acc, maxacc, traininputs, traintargets)\n",
    "save_proba(fn_gen, gen, traininputs, traintargets)"
   ]
  }
 ],
 "metadata": {
  "kernelspec": {
   "display_name": "Python 3",
   "language": "python",
   "name": "python3"
  },
  "language_info": {
   "codemirror_mode": {
    "name": "ipython",
    "version": 3
   },
   "file_extension": ".py",
   "mimetype": "text/x-python",
   "name": "python",
   "nbconvert_exporter": "python",
   "pygments_lexer": "ipython3",
   "version": "3.7.0"
  }
 },
 "nbformat": 4,
 "nbformat_minor": 2
}
