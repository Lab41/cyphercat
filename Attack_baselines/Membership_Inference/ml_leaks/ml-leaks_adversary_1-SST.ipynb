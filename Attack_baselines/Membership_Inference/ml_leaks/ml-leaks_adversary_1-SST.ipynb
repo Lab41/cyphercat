{
 "cells": [
  {
   "cell_type": "markdown",
   "metadata": {},
   "source": [
    "## Membership inference on text\n",
    "### Stanford Sentiment Treebank (SST) movie review dataset for sentiment analysis"
   ]
  },
  {
   "cell_type": "code",
   "execution_count": 1,
   "metadata": {},
   "outputs": [
    {
     "name": "stdout",
     "output_type": "stream",
     "text": [
      "Python: 3.7.0 (default, Jun 28 2018, 13:15:42) \n",
      "[GCC 7.2.0]\n",
      "Pytorch: 1.0.0\n"
     ]
    }
   ],
   "source": [
    "import torch\n",
    "\n",
    "from torchtext import data\n",
    "from torchtext import datasets \n",
    "import sys\n",
    "import seaborn as sns\n",
    "from sklearn.metrics import roc_curve, auc\n",
    "\n",
    "sys.path.insert(0, '../../../Utils/')\n",
    "\n",
    "import matplotlib.pyplot as plt\n",
    "%matplotlib inline  \n",
    "\n",
    "import models\n",
    "from train import *\n",
    "from metrics import * \n",
    "\n",
    "print(\"Python: %s\" % sys.version)\n",
    "print(\"Pytorch: %s\" % torch.__version__)"
   ]
  },
  {
   "cell_type": "markdown",
   "metadata": {},
   "source": [
    "### Load SST using Torchtext"
   ]
  },
  {
   "cell_type": "code",
   "execution_count": 2,
   "metadata": {},
   "outputs": [],
   "source": [
    "# To fix the following error: OSError: [E050] Can't find model 'en'. It doesn't seem to be a shortcut link, a Python package or a valid path to a data directory.\n",
    "# Run: \n",
    "# python -m spacy download en\n",
    "\n",
    "\n",
    "TEXT = data.Field(tokenize='spacy')\n",
    "LABEL = data.LabelField(tensor_type=torch.LongTensor)\n",
    "\n",
    "target, val, shadow = datasets.SST.splits(TEXT, LABEL, root='../../../Datasets/SST_data', fine_grained=True)\n",
    "\n",
    "target_in, target_out = target.split(split_ratio=0.5)\n",
    "shadow_in, shadow_out = shadow.split(split_ratio=0.5)\n",
    "\n",
    "TEXT.build_vocab(target, max_size=25000, vectors=\"glove.6B.100d\", vectors_cache='../../../Datasets/SST_data/vector_cache')\n",
    "LABEL.build_vocab(target)\n",
    "\n",
    "BATCH_SIZE = 32\n",
    "\n",
    "shadow_in_itr, shadow_out_itr, target_in_itr, target_out_itr, val_itr = data.BucketIterator.splits(\n",
    "    (shadow_in, shadow_out, target_in, target_out, val), \n",
    "    batch_size = BATCH_SIZE, \n",
    "    sort_key= lambda x: len(x.text), \n",
    "    repeat=False\n",
    ")"
   ]
  },
  {
   "cell_type": "markdown",
   "metadata": {},
   "source": [
    "### Create bidirectional LSTM model for sentiment analysis"
   ]
  },
  {
   "cell_type": "code",
   "execution_count": 3,
   "metadata": {},
   "outputs": [
    {
     "name": "stdout",
     "output_type": "stream",
     "text": [
      "\n"
     ]
    }
   ],
   "source": [
    "vocab_size = len(TEXT.vocab)\n",
    "embedding_size = 100\n",
    "hidden_size = 256\n",
    "output_size = 5\n",
    "\n",
    "\n",
    "target_model = models.RNN(vocab_size, embedding_size, hidden_size, output_size)\n",
    "shadow_model = models.RNN(vocab_size, embedding_size, hidden_size, output_size)\n",
    "\n",
    "pretrained_embeddings = TEXT.vocab.vectors\n",
    "target_model.embedding.weight.data.copy_(pretrained_embeddings)\n",
    "shadow_model.embedding.weight.data.copy_(pretrained_embeddings)\n",
    "print(\"\")\n",
    "\n",
    "target_optimizer = torch.optim.Adam(target_model.parameters())\n",
    "shadow_optimizer = torch.optim.Adam(shadow_model.parameters())\n",
    "criterion = torch.nn.CrossEntropyLoss()\n",
    "\n",
    "device = torch.device('cuda' if torch.cuda.is_available() else 'cpu')\n",
    "\n",
    "target_model = target_model.to(device)\n",
    "shadow_model = shadow_model.to(device)\n",
    "criterion = criterion.to(device)"
   ]
  },
  {
   "cell_type": "markdown",
   "metadata": {},
   "source": [
    "### Utility functions"
   ]
  },
  {
   "cell_type": "code",
   "execution_count": 4,
   "metadata": {},
   "outputs": [],
   "source": [
    "def classification_accuracy(preds, y):\n",
    "\n",
    "    correct = (preds == y).float() #convert into float for division \n",
    "    acc = correct.sum()/len(correct)\n",
    "    return acc\n",
    "\n",
    "def binary_accuracy(preds, y):\n",
    "\n",
    "    rounded_preds = torch.round(preds)\n",
    "\n",
    "    correct = (rounded_preds == y).float() #convert into float for division \n",
    "    acc = correct.sum()/len(correct)\n",
    "    return acc"
   ]
  },
  {
   "cell_type": "markdown",
   "metadata": {},
   "source": [
    "### Evaluation functions"
   ]
  },
  {
   "cell_type": "code",
   "execution_count": 5,
   "metadata": {},
   "outputs": [],
   "source": [
    "def evaluate(model, iterator, criterion):\n",
    "    \n",
    "    epoch_loss = 0\n",
    "    epoch_acc = 0\n",
    "    \n",
    "    model.eval()\n",
    "    \n",
    "    with torch.no_grad():\n",
    "    \n",
    "        for batch in iterator:\n",
    "\n",
    "            predictions = model(batch.text).squeeze(1)\n",
    "            loss = criterion(predictions, batch.label)\n",
    "            acc = classification_accuracy(predictions.argmax(dim=1), batch.label)\n",
    "\n",
    "            epoch_loss += loss.item()\n",
    "            epoch_acc += acc.item()\n",
    "        \n",
    "    return epoch_loss / len(iterator), epoch_acc / len(iterator)\n",
    "\n",
    "def evaluate_inference(target_model, attack_model, in_iterator, out_iterator, criterion, k):\n",
    "    \n",
    "    epoch_loss = 0\n",
    "    epoch_acc = 0\n",
    "    \n",
    "    shadow_model.eval()\n",
    "    attack_model.eval()\n",
    "    \n",
    "    predictions = np.array([])\n",
    "    labels = np.array([])\n",
    "    \n",
    "    with torch.no_grad():\n",
    "    \n",
    "        for in_batch, out_batch in zip(in_iterator, out_iterator):\n",
    "\n",
    "            in_size = len(in_batch.label)\n",
    "            out_size = len(out_batch.label)\n",
    "            in_lbl = torch.ones(in_size).to(device)\n",
    "            out_lbl = torch.zeros(out_size).to(device)\n",
    "            \n",
    "            \n",
    "            in_predictions = torch.nn.functional.softmax(target_model(in_batch.text.detach()), dim=1).detach()\n",
    "            out_predictions = torch.nn.functional.softmax(target_model(out_batch.text.detach()), dim=1).detach()\n",
    "            \n",
    "            in_sort, _ = torch.sort(in_predictions, descending=True)\n",
    "            in_top_k = in_sort[:,:k].clone().to(device)\n",
    "\n",
    "            out_sort, _ = torch.sort(out_predictions, descending=True)\n",
    "            out_top_k = out_sort[:,:k].clone().to(device)\n",
    "            \n",
    "            \n",
    "            in_inference = attack_model(in_top_k).squeeze(1)\n",
    "            out_inference = attack_model(out_top_k).squeeze(1)\n",
    "            \n",
    "            in_probability = torch.nn.functional.sigmoid(in_inference).detach().cpu().numpy()\n",
    "            out_probability = torch.nn.functional.sigmoid(out_inference).detach().cpu().numpy()\n",
    "        \n",
    "            loss = (criterion(in_inference, in_lbl) + criterion(out_inference, out_lbl)) / 2\n",
    "            acc = (binary_accuracy(in_inference, in_lbl) + binary_accuracy(out_inference, out_lbl)) / 2\n",
    "            \n",
    "            predictions = np.concatenate((predictions, in_probability), axis=0)\n",
    "            labels = np.concatenate((labels, np.ones(in_size)), axis=0)\n",
    "            predictions = np.concatenate((predictions, out_probability), axis=0)\n",
    "            labels = np.concatenate((labels, np.zeros(out_size)), axis=0)\n",
    "\n",
    "            epoch_loss += loss.item()\n",
    "            epoch_acc += acc.item()\n",
    "        \n",
    "    fpr, tpr, thresholds = roc_curve(labels, predictions, pos_label=1)\n",
    "    roc_auc = auc(fpr, tpr)\n",
    "    \n",
    "    return epoch_loss / len(in_iterator), epoch_acc / len(in_iterator), fpr, tpr, roc_auc"
   ]
  },
  {
   "cell_type": "markdown",
   "metadata": {},
   "source": [
    "### Train functions"
   ]
  },
  {
   "cell_type": "code",
   "execution_count": 6,
   "metadata": {},
   "outputs": [],
   "source": [
    "def train(model, iterator, optimizer, criterion):\n",
    "    \n",
    "    epoch_loss = 0\n",
    "    epoch_acc = 0\n",
    "    \n",
    "    model.train()\n",
    "    \n",
    "    for batch in iterator:\n",
    "        \n",
    "        optimizer.zero_grad()\n",
    "        \n",
    "        predictions = model(batch.text).squeeze(1)\n",
    "        \n",
    "        loss = criterion(predictions, batch.label)\n",
    "\n",
    "        acc = classification_accuracy(predictions.argmax(dim=1), batch.label)\n",
    "        \n",
    "        loss.backward()\n",
    "        \n",
    "        optimizer.step()\n",
    "        \n",
    "        epoch_loss += loss.item()\n",
    "        epoch_acc += acc.item()\n",
    "        \n",
    "    return epoch_loss / len(iterator), epoch_acc / len(iterator)\n",
    "\n",
    "def train_nlp_attack(shadow_model, attack_model, in_iterator, out_iterator, optimizer, criterion, k):\n",
    "    \n",
    "    epoch_loss = 0\n",
    "    epoch_acc = 0\n",
    "    \n",
    "    shadow_model.eval()\n",
    "    attack_model.train()\n",
    "    \n",
    "    in_input = np.empty((0,2))\n",
    "    out_input = np.empty((0,2))\n",
    "    \n",
    "    for in_batch, out_batch in zip(in_iterator, out_iterator):\n",
    "\n",
    "        optimizer.zero_grad()\n",
    "        \n",
    "        in_predictions = torch.nn.functional.softmax(shadow_model(in_batch.text.detach()), dim=1).detach()\n",
    "        out_predictions = torch.nn.functional.softmax(shadow_model(out_batch.text.detach()), dim=1).detach()\n",
    "\n",
    "        in_lbl = torch.ones(len(in_batch.label)).to(device)\n",
    "        out_lbl = torch.zeros(len(out_batch.label)).to(device)\n",
    "        \n",
    "        in_sort, _ = torch.sort(in_predictions, descending=True)\n",
    "        in_top_k = in_sort[:,:k].clone().to(device)\n",
    "\n",
    "        out_sort, _ = torch.sort(out_predictions, descending=True)\n",
    "        out_top_k = out_sort[:,:k].clone().to(device)\n",
    "\n",
    "        in_inference = attack_model(in_top_k).squeeze(1)\n",
    "        out_inference = attack_model(out_top_k).squeeze(1)\n",
    "        \n",
    "        in_input = np.vstack((in_input, torch.cat((torch.max(in_predictions, dim=1, keepdim=True)[0], in_batch.label.view(-1,1).type(torch.cuda.FloatTensor)), dim=1).cpu().numpy() ))\n",
    "        out_input = np.vstack((out_input, torch.cat((torch.max(out_predictions, dim=1, keepdim=True)[0], out_batch.label.view(-1,1).type(torch.cuda.FloatTensor)), dim=1).cpu().numpy() ))\n",
    "     \n",
    "        loss = (criterion(in_inference, in_lbl) + criterion(out_inference, out_lbl)) / 2\n",
    "        acc = (binary_accuracy(in_inference, in_lbl) + binary_accuracy(out_inference, out_lbl)) / 2\n",
    "\n",
    "        loss.backward()\n",
    "        \n",
    "        optimizer.step()\n",
    "        \n",
    "        epoch_loss += loss.item()\n",
    "        epoch_acc += acc.item()\n",
    "    \n",
    "            \n",
    "    return epoch_loss / len(in_iterator), epoch_acc / len(in_iterator), in_input, out_input"
   ]
  },
  {
   "cell_type": "markdown",
   "metadata": {},
   "source": [
    "### Train target model"
   ]
  },
  {
   "cell_type": "code",
   "execution_count": 7,
   "metadata": {},
   "outputs": [
    {
     "name": "stderr",
     "output_type": "stream",
     "text": [
      "/home/ljt/cyphercat/venv/lib/python3.7/site-packages/torchtext/data/field.py:322: UserWarning: volatile was removed and now has no effect. Use `with torch.no_grad():` instead.\n",
      "  return Variable(arr, volatile=not train)\n"
     ]
    },
    {
     "name": "stdout",
     "output_type": "stream",
     "text": [
      "Epoch: 01, Train Loss: 1.534, Train Acc: 31.37%, Val. Loss: 1.494, Val. Acc: 29.00%\n",
      "Epoch: 02, Train Loss: 1.428, Train Acc: 36.94%, Val. Loss: 1.358, Val. Acc: 39.76%\n",
      "Epoch: 03, Train Loss: 1.320, Train Acc: 42.89%, Val. Loss: 1.346, Val. Acc: 40.12%\n",
      "Epoch: 04, Train Loss: 1.227, Train Acc: 46.99%, Val. Loss: 1.411, Val. Acc: 40.08%\n",
      "Epoch: 05, Train Loss: 1.132, Train Acc: 50.07%, Val. Loss: 1.420, Val. Acc: 41.05%\n",
      "Epoch: 06, Train Loss: 1.034, Train Acc: 55.13%, Val. Loss: 1.440, Val. Acc: 40.20%\n",
      "Epoch: 07, Train Loss: 0.916, Train Acc: 61.05%, Val. Loss: 1.526, Val. Acc: 42.53%\n",
      "Epoch: 08, Train Loss: 0.801, Train Acc: 67.23%, Val. Loss: 1.693, Val. Acc: 40.83%\n",
      "Epoch: 09, Train Loss: 0.714, Train Acc: 71.64%, Val. Loss: 1.942, Val. Acc: 37.84%\n",
      "Epoch: 10, Train Loss: 0.619, Train Acc: 76.31%, Val. Loss: 2.082, Val. Acc: 37.26%\n",
      "Epoch: 11, Train Loss: 0.557, Train Acc: 77.94%, Val. Loss: 2.376, Val. Acc: 38.37%\n",
      "Epoch: 12, Train Loss: 0.485, Train Acc: 81.09%, Val. Loss: 2.239, Val. Acc: 37.80%\n",
      "Epoch: 13, Train Loss: 0.436, Train Acc: 83.21%, Val. Loss: 2.412, Val. Acc: 37.66%\n",
      "Epoch: 14, Train Loss: 0.385, Train Acc: 85.56%, Val. Loss: 2.344, Val. Acc: 38.51%\n",
      "Epoch: 15, Train Loss: 0.332, Train Acc: 87.48%, Val. Loss: 2.693, Val. Acc: 36.37%\n",
      "Epoch: 16, Train Loss: 0.298, Train Acc: 89.16%, Val. Loss: 2.764, Val. Acc: 37.17%\n",
      "Epoch: 17, Train Loss: 0.286, Train Acc: 89.53%, Val. Loss: 2.771, Val. Acc: 38.42%\n",
      "Epoch: 18, Train Loss: 0.244, Train Acc: 90.88%, Val. Loss: 2.959, Val. Acc: 36.68%\n",
      "Epoch: 19, Train Loss: 0.231, Train Acc: 90.88%, Val. Loss: 2.934, Val. Acc: 37.53%\n",
      "Epoch: 20, Train Loss: 0.212, Train Acc: 92.14%, Val. Loss: 2.950, Val. Acc: 36.33%\n",
      "Epoch: 21, Train Loss: 0.204, Train Acc: 92.72%, Val. Loss: 2.958, Val. Acc: 36.32%\n",
      "Epoch: 22, Train Loss: 0.164, Train Acc: 94.05%, Val. Loss: 3.125, Val. Acc: 35.30%\n",
      "Epoch: 23, Train Loss: 0.159, Train Acc: 93.98%, Val. Loss: 3.307, Val. Acc: 37.30%\n",
      "Epoch: 24, Train Loss: 0.144, Train Acc: 94.68%, Val. Loss: 3.269, Val. Acc: 37.12%\n",
      "Epoch: 25, Train Loss: 0.132, Train Acc: 94.85%, Val. Loss: 3.395, Val. Acc: 37.48%\n",
      "Epoch: 26, Train Loss: 0.130, Train Acc: 95.31%, Val. Loss: 3.426, Val. Acc: 37.44%\n",
      "Epoch: 27, Train Loss: 0.116, Train Acc: 95.85%, Val. Loss: 3.488, Val. Acc: 36.90%\n",
      "Epoch: 28, Train Loss: 0.119, Train Acc: 95.69%, Val. Loss: 3.380, Val. Acc: 38.24%\n",
      "Epoch: 29, Train Loss: 0.109, Train Acc: 96.39%, Val. Loss: 3.585, Val. Acc: 38.10%\n",
      "Epoch: 30, Train Loss: 0.091, Train Acc: 96.67%, Val. Loss: 3.765, Val. Acc: 36.77%\n"
     ]
    }
   ],
   "source": [
    "n_epochs_classification = 30\n",
    "\n",
    "for epoch in range(n_epochs_classification):\n",
    "\n",
    "    train_loss, train_acc = train(target_model, target_in_itr, target_optimizer, criterion)\n",
    "    valid_loss, valid_acc = evaluate(target_model, val_itr, criterion)\n",
    "    \n",
    "    print('Epoch: %02d, Train Loss: %.3f, Train Acc: %.2f%%, Val. Loss: %.3f, Val. Acc: %.2f%%' % (epoch+1, train_loss, train_acc*100, valid_loss, valid_acc*100))"
   ]
  },
  {
   "cell_type": "markdown",
   "metadata": {},
   "source": [
    "### Train shadow model"
   ]
  },
  {
   "cell_type": "code",
   "execution_count": 8,
   "metadata": {},
   "outputs": [
    {
     "name": "stdout",
     "output_type": "stream",
     "text": [
      "Epoch: 01, Train Loss: 1.583, Train Acc: 25.24%, Val. Loss: 1.581, Val. Acc: 29.59%\n",
      "Epoch: 02, Train Loss: 1.535, Train Acc: 31.43%, Val. Loss: 1.527, Val. Acc: 34.46%\n",
      "Epoch: 03, Train Loss: 1.516, Train Acc: 32.16%, Val. Loss: 1.524, Val. Acc: 30.57%\n",
      "Epoch: 04, Train Loss: 1.443, Train Acc: 38.14%, Val. Loss: 1.444, Val. Acc: 36.02%\n",
      "Epoch: 05, Train Loss: 1.389, Train Acc: 41.27%, Val. Loss: 1.427, Val. Acc: 36.68%\n",
      "Epoch: 06, Train Loss: 1.325, Train Acc: 43.11%, Val. Loss: 1.422, Val. Acc: 34.77%\n",
      "Epoch: 07, Train Loss: 1.264, Train Acc: 45.48%, Val. Loss: 1.404, Val. Acc: 37.04%\n",
      "Epoch: 08, Train Loss: 1.210, Train Acc: 50.19%, Val. Loss: 1.474, Val. Acc: 35.79%\n",
      "Epoch: 09, Train Loss: 1.113, Train Acc: 51.00%, Val. Loss: 1.475, Val. Acc: 34.85%\n",
      "Epoch: 10, Train Loss: 1.027, Train Acc: 58.37%, Val. Loss: 1.677, Val. Acc: 35.08%\n",
      "Epoch: 11, Train Loss: 0.961, Train Acc: 60.06%, Val. Loss: 1.499, Val. Acc: 35.70%\n",
      "Epoch: 12, Train Loss: 0.849, Train Acc: 66.19%, Val. Loss: 1.735, Val. Acc: 37.49%\n",
      "Epoch: 13, Train Loss: 0.793, Train Acc: 68.87%, Val. Loss: 1.742, Val. Acc: 35.92%\n",
      "Epoch: 14, Train Loss: 0.730, Train Acc: 71.60%, Val. Loss: 1.662, Val. Acc: 37.40%\n",
      "Epoch: 15, Train Loss: 0.643, Train Acc: 76.29%, Val. Loss: 1.827, Val. Acc: 36.24%\n",
      "Epoch: 16, Train Loss: 0.603, Train Acc: 78.06%, Val. Loss: 1.831, Val. Acc: 38.06%\n",
      "Epoch: 17, Train Loss: 0.576, Train Acc: 76.81%, Val. Loss: 1.795, Val. Acc: 36.06%\n",
      "Epoch: 18, Train Loss: 0.520, Train Acc: 80.04%, Val. Loss: 1.995, Val. Acc: 35.12%\n",
      "Epoch: 19, Train Loss: 0.474, Train Acc: 83.31%, Val. Loss: 2.028, Val. Acc: 39.31%\n",
      "Epoch: 20, Train Loss: 0.409, Train Acc: 84.67%, Val. Loss: 2.139, Val. Acc: 36.68%\n",
      "Epoch: 21, Train Loss: 0.340, Train Acc: 87.61%, Val. Loss: 2.279, Val. Acc: 35.70%\n",
      "Epoch: 22, Train Loss: 0.366, Train Acc: 85.84%, Val. Loss: 2.266, Val. Acc: 36.86%\n",
      "Epoch: 23, Train Loss: 0.332, Train Acc: 87.98%, Val. Loss: 2.368, Val. Acc: 36.01%\n",
      "Epoch: 24, Train Loss: 0.326, Train Acc: 88.69%, Val. Loss: 2.164, Val. Acc: 35.43%\n",
      "Epoch: 25, Train Loss: 0.249, Train Acc: 90.66%, Val. Loss: 2.454, Val. Acc: 37.04%\n",
      "Epoch: 26, Train Loss: 0.237, Train Acc: 91.28%, Val. Loss: 2.623, Val. Acc: 35.08%\n",
      "Epoch: 27, Train Loss: 0.229, Train Acc: 90.99%, Val. Loss: 2.451, Val. Acc: 35.21%\n",
      "Epoch: 28, Train Loss: 0.216, Train Acc: 91.99%, Val. Loss: 2.821, Val. Acc: 35.34%\n",
      "Epoch: 29, Train Loss: 0.209, Train Acc: 92.69%, Val. Loss: 2.715, Val. Acc: 35.79%\n",
      "Epoch: 30, Train Loss: 0.177, Train Acc: 94.20%, Val. Loss: 2.807, Val. Acc: 35.34%\n"
     ]
    }
   ],
   "source": [
    "for epoch in range(n_epochs_classification):\n",
    "\n",
    "    train_loss, train_acc = train(shadow_model, shadow_in_itr, shadow_optimizer, criterion)\n",
    "    valid_loss, valid_acc = evaluate(shadow_model, val_itr, criterion)\n",
    "    \n",
    "    print('Epoch: %02d, Train Loss: %.3f, Train Acc: %.2f%%, Val. Loss: %.3f, Val. Acc: %.2f%%' % (epoch+1, train_loss, train_acc*100, valid_loss, valid_acc*100))\n"
   ]
  },
  {
   "cell_type": "markdown",
   "metadata": {},
   "source": [
    "### Evaluate models on test set"
   ]
  },
  {
   "cell_type": "code",
   "execution_count": 9,
   "metadata": {},
   "outputs": [
    {
     "name": "stdout",
     "output_type": "stream",
     "text": [
      "Target net test accuracy: 0.37 , Shadow net test accuracy: 0.35\n"
     ]
    }
   ],
   "source": [
    "target_test_loss, target_test_acc = evaluate(target_model, val_itr, criterion)\n",
    "shadow_test_loss, shadow_test_acc = evaluate(shadow_model, val_itr, criterion)\n",
    "\n",
    "print('Target net test accuracy: %.2f , Shadow net test accuracy: %.2f' % (target_test_acc, shadow_test_acc))"
   ]
  },
  {
   "cell_type": "markdown",
   "metadata": {},
   "source": [
    "### Create ML-leaks adversary 1 model (multi layer perceptron)"
   ]
  },
  {
   "cell_type": "code",
   "execution_count": 10,
   "metadata": {},
   "outputs": [],
   "source": [
    "attack_model = models.mlp(3,1,32).to(device)\n",
    "\n",
    "attack_loss = torch.nn.BCELoss()\n",
    "attack_optim = torch.optim.Adam(attack_model.parameters(), lr=0.01)"
   ]
  },
  {
   "cell_type": "markdown",
   "metadata": {},
   "source": [
    "### Train attack model"
   ]
  },
  {
   "cell_type": "code",
   "execution_count": 11,
   "metadata": {},
   "outputs": [
    {
     "name": "stderr",
     "output_type": "stream",
     "text": [
      "/home/ljt/cyphercat/venv/lib/python3.7/site-packages/torch/nn/functional.py:1332: UserWarning: nn.functional.sigmoid is deprecated. Use torch.sigmoid instead.\n",
      "  warnings.warn(\"nn.functional.sigmoid is deprecated. Use torch.sigmoid instead.\")\n"
     ]
    },
    {
     "name": "stdout",
     "output_type": "stream",
     "text": [
      "Epoch: 01, Train Loss: 0.572, Train Acc: 71.05%, Val. Loss: 0.488, Val. Acc: 76.08%\n",
      "Epoch: 02, Train Loss: 0.501, Train Acc: 77.53%, Val. Loss: 0.480, Val. Acc: 77.65%\n",
      "Epoch: 03, Train Loss: 0.504, Train Acc: 77.65%, Val. Loss: 0.490, Val. Acc: 78.70%\n",
      "Epoch: 04, Train Loss: 0.494, Train Acc: 77.71%, Val. Loss: 0.472, Val. Acc: 77.88%\n",
      "Epoch: 05, Train Loss: 0.487, Train Acc: 78.25%, Val. Loss: 0.467, Val. Acc: 78.70%\n",
      "Epoch: 06, Train Loss: 0.491, Train Acc: 78.27%, Val. Loss: 0.476, Val. Acc: 78.49%\n",
      "Epoch: 07, Train Loss: 0.486, Train Acc: 78.20%, Val. Loss: 0.467, Val. Acc: 79.91%\n",
      "Epoch: 08, Train Loss: 0.489, Train Acc: 78.12%, Val. Loss: 0.466, Val. Acc: 78.52%\n",
      "Epoch: 09, Train Loss: 0.482, Train Acc: 78.34%, Val. Loss: 0.471, Val. Acc: 78.66%\n",
      "Epoch: 10, Train Loss: 0.484, Train Acc: 78.38%, Val. Loss: 0.477, Val. Acc: 78.59%\n",
      "Epoch: 11, Train Loss: 0.482, Train Acc: 78.74%, Val. Loss: 0.469, Val. Acc: 78.85%\n",
      "Epoch: 12, Train Loss: 0.480, Train Acc: 79.07%, Val. Loss: 0.479, Val. Acc: 78.65%\n",
      "Epoch: 13, Train Loss: 0.482, Train Acc: 78.56%, Val. Loss: 0.473, Val. Acc: 78.66%\n",
      "Epoch: 14, Train Loss: 0.478, Train Acc: 78.75%, Val. Loss: 0.482, Val. Acc: 78.64%\n",
      "Epoch: 15, Train Loss: 0.481, Train Acc: 78.79%, Val. Loss: 0.490, Val. Acc: 78.40%\n",
      "Epoch: 16, Train Loss: 0.478, Train Acc: 78.91%, Val. Loss: 0.488, Val. Acc: 78.44%\n",
      "Epoch: 17, Train Loss: 0.474, Train Acc: 78.84%, Val. Loss: 0.482, Val. Acc: 78.65%\n",
      "Epoch: 18, Train Loss: 0.477, Train Acc: 78.78%, Val. Loss: 0.494, Val. Acc: 78.42%\n",
      "Epoch: 19, Train Loss: 0.478, Train Acc: 78.72%, Val. Loss: 0.476, Val. Acc: 78.85%\n",
      "Epoch: 20, Train Loss: 0.477, Train Acc: 79.09%, Val. Loss: 0.476, Val. Acc: 78.68%\n",
      "Epoch: 21, Train Loss: 0.477, Train Acc: 78.84%, Val. Loss: 0.499, Val. Acc: 78.32%\n",
      "Epoch: 22, Train Loss: 0.477, Train Acc: 79.24%, Val. Loss: 0.499, Val. Acc: 78.24%\n",
      "Epoch: 23, Train Loss: 0.475, Train Acc: 79.14%, Val. Loss: 0.512, Val. Acc: 78.16%\n",
      "Epoch: 24, Train Loss: 0.477, Train Acc: 78.78%, Val. Loss: 0.512, Val. Acc: 78.17%\n",
      "Epoch: 25, Train Loss: 0.477, Train Acc: 78.78%, Val. Loss: 0.513, Val. Acc: 78.14%\n",
      "Epoch: 26, Train Loss: 0.478, Train Acc: 78.71%, Val. Loss: 0.493, Val. Acc: 78.42%\n",
      "Epoch: 27, Train Loss: 0.473, Train Acc: 79.00%, Val. Loss: 0.500, Val. Acc: 78.36%\n",
      "Epoch: 28, Train Loss: 0.475, Train Acc: 78.88%, Val. Loss: 0.512, Val. Acc: 78.10%\n",
      "Epoch: 29, Train Loss: 0.477, Train Acc: 78.88%, Val. Loss: 0.505, Val. Acc: 78.33%\n",
      "Epoch: 30, Train Loss: 0.472, Train Acc: 78.46%, Val. Loss: 0.515, Val. Acc: 78.00%\n"
     ]
    }
   ],
   "source": [
    "n_epochs_attack = 30\n",
    "\n",
    "for epoch in range(n_epochs_attack):\n",
    "\n",
    "    train_loss, train_acc, in_input, out_input = train_nlp_attack(shadow_model, attack_model, shadow_in_itr, shadow_out_itr, attack_optim, attack_loss, 3)\n",
    "    valid_loss, valid_acc, fpr, tpr, roc_auc = evaluate_inference(target_model, attack_model, target_in_itr, target_out_itr, attack_loss, 3)\n",
    "\n",
    "    print('Epoch: %02d, Train Loss: %.3f, Train Acc: %.2f%%, Val. Loss: %.3f, Val. Acc: %.2f%%' % (epoch+1, train_loss, train_acc*100, valid_loss, valid_acc*100))"
   ]
  },
  {
   "cell_type": "markdown",
   "metadata": {},
   "source": [
    "### Attack Results"
   ]
  },
  {
   "cell_type": "code",
   "execution_count": 12,
   "metadata": {},
   "outputs": [
    {
     "data": {
      "image/png": "[encoded data removed]",
      "text/plain": [
       "<Figure size 432x288 with 1 Axes>"
      ]
     },
     "metadata": {
      "needs_background": "light"
     },
     "output_type": "display_data"
    }
   ],
   "source": [
    "lw = 2\n",
    "plt.figure()\n",
    "plt.plot(fpr, tpr, lw=lw, \n",
    "         label='ROC curve (auc = %.2f)' % (roc_auc))\n",
    "plt.plot([0,1],[0,1], color='navy', lw=lw, linestyle='--')\n",
    "plt.ylabel('True Positive Rate')\n",
    "plt.xlabel('False Positive Rate')\n",
    "plt.xlim([0.0,1.0])\n",
    "plt.ylim([0.0, 1.05])\n",
    "plt.title('SST Membership Inference ROC curve')\n",
    "plt.legend(loc=\"lower right\")\n",
    "plt.show()\n",
    "\n",
    "import pickle\n",
    "results = (fpr, tpr, roc_auc)\n",
    "pickle.dump(results, open(\"sst_results\", \"wb\"))"
   ]
  },
  {
   "cell_type": "code",
   "execution_count": 13,
   "metadata": {},
   "outputs": [],
   "source": [
    "# in_positive = in_input[in_input[:,1] == 1][:,0]\n",
    "# in_negative = in_input[in_input[:,1] == 0][:,0]\n",
    "\n",
    "# out_positive = out_input[out_input[:,1] == 1][:,0]\n",
    "# out_negative = out_input[out_input[:,1] == 0][:,0]\n",
    "\n",
    "\n",
    "# plt.figure()\n",
    "# sns.distplot(in_positive[:100],label='in positive', kde=True, hist=True, norm_hist=True)\n",
    "# sns.distplot(out_positive[:100],label='out positive', kde=True, hist=True, norm_hist=True)\n",
    "# plt.legend()\n",
    "# plt.xlim([0.4, 1.05])\n",
    "# plt.ylim([0.0, 20])\n",
    "# plt.title(\"Positive predictions\")\n",
    "# plt.show()\n",
    "\n",
    "# plt.figure()\n",
    "# sns.distplot(in_negative,label='in negative')\n",
    "# sns.distplot(out_negative,label='out negative')\n",
    "# plt.legend()\n",
    "# plt.title(\"Negative predictions\")\n",
    "# plt.show()\n"
   ]
  }
 ],
 "metadata": {
  "kernelspec": {
   "display_name": "venv",
   "language": "python",
   "name": "venv"
  },
  "language_info": {
   "codemirror_mode": {
    "name": "ipython",
    "version": 3
   },
   "file_extension": ".py",
   "mimetype": "text/x-python",
   "name": "python",
   "nbconvert_exporter": "python",
   "pygments_lexer": "ipython3",
   "version": "3.7.0"
  }
 },
 "nbformat": 4,
 "nbformat_minor": 2
}
