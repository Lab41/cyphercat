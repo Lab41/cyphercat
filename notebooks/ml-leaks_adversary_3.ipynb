{
 "cells": [
  {
   "cell_type": "markdown",
   "metadata": {},
   "source": [
    "# ML-Leaks Adversary 3"
   ]
  },
  {
   "cell_type": "markdown",
   "metadata": {},
   "source": [
    "## Imports"
   ]
  },
  {
   "cell_type": "code",
   "execution_count": null,
   "metadata": {},
   "outputs": [],
   "source": [
    "import sys \n",
    "import numpy as np \n",
    "import matplotlib.pyplot as plt\n",
    "\n",
    "\n",
    "import torch\n",
    "import torchvision \n",
    "import torch.optim as optim\n",
    "import torch.nn as nn\n",
    "import torch.nn.functional as F\n",
    "from torch.utils.data.sampler import SubsetRandomSampler\n",
    "\n",
    "sys.path.insert(0, '../src_code')\n",
    "\n",
    "import models\n",
    "\n",
    "from utils import *\n",
    "\n",
    "print(\"Python: %s\" % sys.version)\n",
    "print(\"Pytorch: %s\" % torch.__version__)\n",
    "\n",
    "# determine device to run network on (runs on gpu if available)\n",
    "device = torch.device(\"cuda:0\" if torch.cuda.is_available() else \"cpu\")"
   ]
  },
  {
   "cell_type": "markdown",
   "metadata": {},
   "source": [
    "## Hyperparameters"
   ]
  },
  {
   "cell_type": "code",
   "execution_count": null,
   "metadata": {},
   "outputs": [],
   "source": [
    "n_epochs = 10\n",
    "batch_size = 256\n",
    "lr = 0.001\n",
    "\n"
   ]
  },
  {
   "cell_type": "markdown",
   "metadata": {},
   "source": [
    "## Load CIFAR10"
   ]
  },
  {
   "cell_type": "code",
   "execution_count": null,
   "metadata": {},
   "outputs": [],
   "source": [
    "# define series of transforms to pre process images \n",
    "transform = torchvision.transforms.Compose([\n",
    "    # have to pad a few pixels for resnet\n",
    "    torchvision.transforms.Pad(2),\n",
    "    torchvision.transforms.ToTensor(),\n",
    "    torchvision.transforms.Normalize((0.5, 0.5, 0.5), (0.5, 0.5, 0.5))])\n",
    "\n",
    "classes = [\"airplane\", \"automobile\", \"bird\", \"cat\", \"deer\", \"dog\", \"frog\", \"horse\", \"ship\", \"truck\"]\n",
    "\n",
    "\n",
    "# load training set \n",
    "cifar10_trainset = torchvision.datasets.CIFAR10('../datasets/', train=True, transform=transform, download=True)\n",
    "cifar10_trainloader = torch.utils.data.DataLoader(cifar10_trainset, batch_size=batch_size, shuffle=True, num_workers=2)\n",
    "\n",
    "# load test set \n",
    "cifar10_testset = torchvision.datasets.CIFAR10('../datasets/', train=False, transform=transform, download=True)\n",
    "cifar10_testloader = torch.utils.data.DataLoader(cifar10_testset, batch_size=100, shuffle=False, num_workers=2)\n",
    "\n",
    "# helper function to unnormalize and plot image \n",
    "def imshow(img):\n",
    "    img = np.array(img)\n",
    "    img = img / 2 + 0.5\n",
    "    img = np.moveaxis(img, 0, -1)\n",
    "    plt.imshow(img)\n",
    "    \n",
    "# display sample from dataset \n",
    "imgs,labels = iter(cifar10_trainloader).next()\n",
    "imshow(torchvision.utils.make_grid(imgs))  "
   ]
  },
  {
   "cell_type": "markdown",
   "metadata": {},
   "source": [
    "## ML Leaks Adversary 3 (Membership Inference Attack) \n",
    "### https://arxiv.org/abs/1806.01246"
   ]
  },
  {
   "cell_type": "code",
   "execution_count": null,
   "metadata": {
    "scrolled": true
   },
   "outputs": [],
   "source": [
    "\n",
    "total_size = len(cifar10_trainset)\n",
    "\n",
    "\n",
    "indices = list(range(total_size))\n",
    "\n",
    "split = total_size // 2\n",
    "target_train_idx = indices[:split]\n",
    "target_out_idx = indices[split:]\n",
    "\n",
    "\n",
    "\n",
    "target_train_sampler = SubsetRandomSampler(target_train_idx)\n",
    "target_out_sampler = SubsetRandomSampler(target_out_idx)\n",
    "\n",
    "target_train_loader = torch.utils.data.DataLoader(cifar10_trainset, batch_size=batch_size, sampler=target_train_sampler, num_workers=1)\n",
    "target_out_loader = torch.utils.data.DataLoader(cifar10_trainset, batch_size=batch_size, sampler=target_out_sampler, num_workers=1)\n",
    "\n",
    "\n",
    "\n",
    "# the model being attacked (architecture can be different than shadow)\n",
    "target_net = torchvision.models.resnet18(num_classes=10).to(device)\n",
    "target_net.avgpool = nn.AvgPool2d(2, stride=1)\n",
    "#target_net = models.mlleaks_cnn().to(device)\n",
    "\n",
    "target_net.apply(models.weights_init)\n",
    "\n",
    "target_loss = nn.CrossEntropyLoss()\n",
    "target_optim = optim.Adam(target_net.parameters(), lr=lr)\n",
    "\n",
    "\n",
    "\n"
   ]
  },
  {
   "cell_type": "code",
   "execution_count": null,
   "metadata": {},
   "outputs": [],
   "source": [
    "train(target_net, target_train_loader, cifar10_testloader, target_optim, target_loss, n_epochs, classes=classes)\n"
   ]
  },
  {
   "cell_type": "code",
   "execution_count": null,
   "metadata": {},
   "outputs": [],
   "source": [
    "eval_membership_inference(target_net, target_train_loader, target_out_loader)"
   ]
  }
 ],
 "metadata": {
  "kernelspec": {
   "display_name": "Python 3",
   "language": "python",
   "name": "python3"
  },
  "language_info": {
   "codemirror_mode": {
    "name": "ipython",
    "version": 3
   },
   "file_extension": ".py",
   "mimetype": "text/x-python",
   "name": "python",
   "nbconvert_exporter": "python",
   "pygments_lexer": "ipython3",
   "version": "3.6.5"
  }
 },
 "nbformat": 4,
 "nbformat_minor": 2
}
